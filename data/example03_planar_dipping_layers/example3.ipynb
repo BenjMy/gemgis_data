{
 "cells": [
  {
   "cell_type": "markdown",
   "id": "interracial-rebound",
   "metadata": {},
   "source": [
    "# Example 3"
   ]
  },
  {
   "cell_type": "code",
   "execution_count": 1,
   "id": "neither-funeral",
   "metadata": {
    "ExecuteTime": {
     "end_time": "2021-03-28T11:01:07.032990Z",
     "start_time": "2021-03-28T11:01:04.745670Z"
    }
   },
   "outputs": [
    {
     "name": "stderr",
     "output_type": "stream",
     "text": [
      "WARNING (theano.configdefaults): g++ not available, if using conda: `conda install m2w64-toolchain`\n",
      "C:\\Users\\ale93371\\Anaconda3\\envs\\test_gempy\\lib\\site-packages\\theano\\configdefaults.py:560: UserWarning: DeprecationWarning: there is no c++ compiler.This is deprecated and with Theano 0.11 a c++ compiler will be mandatory\n",
      "  warnings.warn(\"DeprecationWarning: there is no c++ compiler.\"\n",
      "WARNING (theano.configdefaults): g++ not detected ! Theano will be unable to execute optimized C-implementations (for both CPU and GPU) and will default to Python implementations. Performance will be severely degraded. To remove this warning, set Theano flags cxx to an empty string.\n",
      "WARNING (theano.tensor.blas): Using NumPy C-API based implementation for BLAS functions.\n"
     ]
    }
   ],
   "source": [
    "import gemgis as gg"
   ]
  },
  {
   "cell_type": "code",
   "execution_count": 2,
   "id": "polar-appliance",
   "metadata": {
    "ExecuteTime": {
     "end_time": "2021-03-28T11:01:07.047731Z",
     "start_time": "2021-03-28T11:01:07.036005Z"
    }
   },
   "outputs": [],
   "source": [
    "import geopandas as gpd\n",
    "import rasterio "
   ]
  },
  {
   "cell_type": "code",
   "execution_count": 3,
   "id": "informed-tomorrow",
   "metadata": {
    "ExecuteTime": {
     "end_time": "2021-03-28T11:01:07.095071Z",
     "start_time": "2021-03-28T11:01:07.049725Z"
    }
   },
   "outputs": [
    {
     "data": {
      "text/html": [
       "<div>\n",
       "<style scoped>\n",
       "    .dataframe tbody tr th:only-of-type {\n",
       "        vertical-align: middle;\n",
       "    }\n",
       "\n",
       "    .dataframe tbody tr th {\n",
       "        vertical-align: top;\n",
       "    }\n",
       "\n",
       "    .dataframe thead th {\n",
       "        text-align: right;\n",
       "    }\n",
       "</style>\n",
       "<table border=\"1\" class=\"dataframe\">\n",
       "  <thead>\n",
       "    <tr style=\"text-align: right;\">\n",
       "      <th></th>\n",
       "      <th>id</th>\n",
       "      <th>Z</th>\n",
       "      <th>geometry</th>\n",
       "    </tr>\n",
       "  </thead>\n",
       "  <tbody>\n",
       "    <tr>\n",
       "      <th>0</th>\n",
       "      <td>None</td>\n",
       "      <td>800</td>\n",
       "      <td>LINESTRING (6.948 674.298, 97.151 781.847, 168...</td>\n",
       "    </tr>\n",
       "    <tr>\n",
       "      <th>1</th>\n",
       "      <td>None</td>\n",
       "      <td>900</td>\n",
       "      <td>LINESTRING (10.418 291.517, 78.648 414.099, 12...</td>\n",
       "    </tr>\n",
       "    <tr>\n",
       "      <th>2</th>\n",
       "      <td>None</td>\n",
       "      <td>1100</td>\n",
       "      <td>LINESTRING (978.357 1207.417, 1009.581 1271.02...</td>\n",
       "    </tr>\n",
       "    <tr>\n",
       "      <th>3</th>\n",
       "      <td>None</td>\n",
       "      <td>1000</td>\n",
       "      <td>LINESTRING (834.959 1363.536, 882.373 1447.956...</td>\n",
       "    </tr>\n",
       "    <tr>\n",
       "      <th>4</th>\n",
       "      <td>None</td>\n",
       "      <td>1100</td>\n",
       "      <td>LINESTRING (1778.613 2.407, 1712.696 100.704, ...</td>\n",
       "    </tr>\n",
       "  </tbody>\n",
       "</table>\n",
       "</div>"
      ],
      "text/plain": [
       "     id     Z                                           geometry\n",
       "0  None   800  LINESTRING (6.948 674.298, 97.151 781.847, 168...\n",
       "1  None   900  LINESTRING (10.418 291.517, 78.648 414.099, 12...\n",
       "2  None  1100  LINESTRING (978.357 1207.417, 1009.581 1271.02...\n",
       "3  None  1000  LINESTRING (834.959 1363.536, 882.373 1447.956...\n",
       "4  None  1100  LINESTRING (1778.613 2.407, 1712.696 100.704, ..."
      ]
     },
     "execution_count": 3,
     "metadata": {},
     "output_type": "execute_result"
    }
   ],
   "source": [
    "topo = gpd.read_file('topo3.shp')\n",
    "topo.head()"
   ]
  },
  {
   "cell_type": "code",
   "execution_count": 4,
   "id": "revolutionary-calibration",
   "metadata": {
    "ExecuteTime": {
     "end_time": "2021-03-28T11:01:07.556179Z",
     "start_time": "2021-03-28T11:01:07.097060Z"
    }
   },
   "outputs": [
    {
     "name": "stderr",
     "output_type": "stream",
     "text": [
      "C:\\Users\\ale93371\\Anaconda3\\envs\\test_gempy\\lib\\site-packages\\scipy\\interpolate\\rbf.py:257: LinAlgWarning: Ill-conditioned matrix (rcond=3.63257e-33): result may not be accurate.\n",
      "  self.nodes = linalg.solve(self.A, self.di)\n"
     ]
    }
   ],
   "source": [
    "topo_raster = gg.vector.interpolate_raster(gdf=topo, value='Z', method='rbf', res=15)\n"
   ]
  },
  {
   "cell_type": "code",
   "execution_count": 5,
   "id": "frozen-gazette",
   "metadata": {
    "ExecuteTime": {
     "end_time": "2021-03-28T11:01:07.697875Z",
     "start_time": "2021-03-28T11:01:07.558165Z"
    }
   },
   "outputs": [
    {
     "data": {
      "text/plain": [
       "<matplotlib.image.AxesImage at 0x21595b82520>"
      ]
     },
     "execution_count": 5,
     "metadata": {},
     "output_type": "execute_result"
    },
    {
     "data": {
      "image/png": "[encoded data removed]",
      "text/plain": [
       "<Figure size 748.8x514.8 with 1 Axes>"
      ]
     },
     "metadata": {},
     "output_type": "display_data"
    }
   ],
   "source": [
    "import matplotlib.pyplot as plt\n",
    "plt.imshow(topo_raster, origin='lower')"
   ]
  },
  {
   "cell_type": "raw",
   "id": "decreased-appearance",
   "metadata": {
    "ExecuteTime": {
     "end_time": "2021-03-28T11:00:45.429352Z",
     "start_time": "2021-03-28T11:00:45.410290Z"
    }
   },
   "source": [
    "gg.raster.save_as_tiff(raster=topo_raster, path='raster3.tif', extent=[0,3000,0,3740], crs='EPSG:4326', overwrite_file=True)"
   ]
  },
  {
   "cell_type": "code",
   "execution_count": 6,
   "id": "silver-defendant",
   "metadata": {
    "ExecuteTime": {
     "end_time": "2021-03-28T11:01:07.729889Z",
     "start_time": "2021-03-28T11:01:07.698872Z"
    }
   },
   "outputs": [],
   "source": [
    "topo_raster = rasterio.open('raster3.tif')"
   ]
  },
  {
   "cell_type": "code",
   "execution_count": 7,
   "id": "activated-namibia",
   "metadata": {
    "ExecuteTime": {
     "end_time": "2021-03-28T11:01:07.760896Z",
     "start_time": "2021-03-28T11:01:07.732886Z"
    }
   },
   "outputs": [
    {
     "data": {
      "text/html": [
       "<div>\n",
       "<style scoped>\n",
       "    .dataframe tbody tr th:only-of-type {\n",
       "        vertical-align: middle;\n",
       "    }\n",
       "\n",
       "    .dataframe tbody tr th {\n",
       "        vertical-align: top;\n",
       "    }\n",
       "\n",
       "    .dataframe thead th {\n",
       "        text-align: right;\n",
       "    }\n",
       "</style>\n",
       "<table border=\"1\" class=\"dataframe\">\n",
       "  <thead>\n",
       "    <tr style=\"text-align: right;\">\n",
       "      <th></th>\n",
       "      <th>id</th>\n",
       "      <th>formation</th>\n",
       "      <th>geometry</th>\n",
       "    </tr>\n",
       "  </thead>\n",
       "  <tbody>\n",
       "    <tr>\n",
       "      <th>0</th>\n",
       "      <td>None</td>\n",
       "      <td>B</td>\n",
       "      <td>LINESTRING (2.323 3499.479, 65.927 3338.734, 1...</td>\n",
       "    </tr>\n",
       "    <tr>\n",
       "      <th>1</th>\n",
       "      <td>None</td>\n",
       "      <td>C</td>\n",
       "      <td>LINESTRING (389.730 3730.767, 463.742 3570.022...</td>\n",
       "    </tr>\n",
       "    <tr>\n",
       "      <th>2</th>\n",
       "      <td>None</td>\n",
       "      <td>C</td>\n",
       "      <td>LINESTRING (2067.723 2331.475, 2214.591 2427.4...</td>\n",
       "    </tr>\n",
       "    <tr>\n",
       "      <th>3</th>\n",
       "      <td>None</td>\n",
       "      <td>D</td>\n",
       "      <td>LINESTRING (2522.204 3256.627, 2393.839 3180.3...</td>\n",
       "    </tr>\n",
       "    <tr>\n",
       "      <th>4</th>\n",
       "      <td>None</td>\n",
       "      <td>E</td>\n",
       "      <td>LINESTRING (2389.213 3623.218, 2259.692 3551.5...</td>\n",
       "    </tr>\n",
       "  </tbody>\n",
       "</table>\n",
       "</div>"
      ],
      "text/plain": [
       "     id formation                                           geometry\n",
       "0  None         B  LINESTRING (2.323 3499.479, 65.927 3338.734, 1...\n",
       "1  None         C  LINESTRING (389.730 3730.767, 463.742 3570.022...\n",
       "2  None         C  LINESTRING (2067.723 2331.475, 2214.591 2427.4...\n",
       "3  None         D  LINESTRING (2522.204 3256.627, 2393.839 3180.3...\n",
       "4  None         E  LINESTRING (2389.213 3623.218, 2259.692 3551.5..."
      ]
     },
     "execution_count": 7,
     "metadata": {},
     "output_type": "execute_result"
    }
   ],
   "source": [
    "interfaces = gpd.read_file('interfaces3.shp')\n",
    "interfaces.head()"
   ]
  },
  {
   "cell_type": "code",
   "execution_count": 8,
   "id": "stopped-saint",
   "metadata": {
    "ExecuteTime": {
     "end_time": "2021-03-28T11:01:07.856907Z",
     "start_time": "2021-03-28T11:01:07.762892Z"
    }
   },
   "outputs": [
    {
     "data": {
      "text/html": [
       "<div>\n",
       "<style scoped>\n",
       "    .dataframe tbody tr th:only-of-type {\n",
       "        vertical-align: middle;\n",
       "    }\n",
       "\n",
       "    .dataframe tbody tr th {\n",
       "        vertical-align: top;\n",
       "    }\n",
       "\n",
       "    .dataframe thead th {\n",
       "        text-align: right;\n",
       "    }\n",
       "</style>\n",
       "<table border=\"1\" class=\"dataframe\">\n",
       "  <thead>\n",
       "    <tr style=\"text-align: right;\">\n",
       "      <th></th>\n",
       "      <th>formation</th>\n",
       "      <th>geometry</th>\n",
       "      <th>X</th>\n",
       "      <th>Y</th>\n",
       "      <th>Z</th>\n",
       "    </tr>\n",
       "  </thead>\n",
       "  <tbody>\n",
       "    <tr>\n",
       "      <th>169</th>\n",
       "      <td>F</td>\n",
       "      <td>POINT (932.100 3354.924)</td>\n",
       "      <td>932.10</td>\n",
       "      <td>3354.92</td>\n",
       "      <td>1214.19</td>\n",
       "    </tr>\n",
       "    <tr>\n",
       "      <th>170</th>\n",
       "      <td>F</td>\n",
       "      <td>POINT (914.753 3459.004)</td>\n",
       "      <td>914.75</td>\n",
       "      <td>3459.00</td>\n",
       "      <td>1213.03</td>\n",
       "    </tr>\n",
       "    <tr>\n",
       "      <th>181</th>\n",
       "      <td>F</td>\n",
       "      <td>POINT (1630.589 267.231)</td>\n",
       "      <td>1630.59</td>\n",
       "      <td>267.23</td>\n",
       "      <td>1085.09</td>\n",
       "    </tr>\n",
       "    <tr>\n",
       "      <th>180</th>\n",
       "      <td>F</td>\n",
       "      <td>POINT (1527.666 276.483)</td>\n",
       "      <td>1527.67</td>\n",
       "      <td>276.48</td>\n",
       "      <td>1101.00</td>\n",
       "    </tr>\n",
       "    <tr>\n",
       "      <th>179</th>\n",
       "      <td>F</td>\n",
       "      <td>POINT (1417.804 261.449)</td>\n",
       "      <td>1417.80</td>\n",
       "      <td>261.45</td>\n",
       "      <td>1118.56</td>\n",
       "    </tr>\n",
       "    <tr>\n",
       "      <th>...</th>\n",
       "      <td>...</td>\n",
       "      <td>...</td>\n",
       "      <td>...</td>\n",
       "      <td>...</td>\n",
       "      <td>...</td>\n",
       "    </tr>\n",
       "    <tr>\n",
       "      <th>17</th>\n",
       "      <td>B</td>\n",
       "      <td>POINT (238.236 761.031)</td>\n",
       "      <td>238.24</td>\n",
       "      <td>761.03</td>\n",
       "      <td>854.53</td>\n",
       "    </tr>\n",
       "    <tr>\n",
       "      <th>18</th>\n",
       "      <td>B</td>\n",
       "      <td>POINT (161.911 615.320)</td>\n",
       "      <td>161.91</td>\n",
       "      <td>615.32</td>\n",
       "      <td>870.34</td>\n",
       "    </tr>\n",
       "    <tr>\n",
       "      <th>19</th>\n",
       "      <td>B</td>\n",
       "      <td>POINT (83.273 463.826)</td>\n",
       "      <td>83.27</td>\n",
       "      <td>463.83</td>\n",
       "      <td>886.53</td>\n",
       "    </tr>\n",
       "    <tr>\n",
       "      <th>20</th>\n",
       "      <td>B</td>\n",
       "      <td>POINT (11.574 307.707)</td>\n",
       "      <td>11.57</td>\n",
       "      <td>307.71</td>\n",
       "      <td>895.69</td>\n",
       "    </tr>\n",
       "    <tr>\n",
       "      <th>0</th>\n",
       "      <td>B</td>\n",
       "      <td>POINT (2.323 3499.479)</td>\n",
       "      <td>2.32</td>\n",
       "      <td>3499.48</td>\n",
       "      <td>898.42</td>\n",
       "    </tr>\n",
       "  </tbody>\n",
       "</table>\n",
       "<p>339 rows × 5 columns</p>\n",
       "</div>"
      ],
      "text/plain": [
       "    formation                  geometry       X       Y       Z\n",
       "169         F  POINT (932.100 3354.924)  932.10 3354.92 1214.19\n",
       "170         F  POINT (914.753 3459.004)  914.75 3459.00 1213.03\n",
       "181         F  POINT (1630.589 267.231) 1630.59  267.23 1085.09\n",
       "180         F  POINT (1527.666 276.483) 1527.67  276.48 1101.00\n",
       "179         F  POINT (1417.804 261.449) 1417.80  261.45 1118.56\n",
       "..        ...                       ...     ...     ...     ...\n",
       "17          B   POINT (238.236 761.031)  238.24  761.03  854.53\n",
       "18          B   POINT (161.911 615.320)  161.91  615.32  870.34\n",
       "19          B    POINT (83.273 463.826)   83.27  463.83  886.53\n",
       "20          B    POINT (11.574 307.707)   11.57  307.71  895.69\n",
       "0           B    POINT (2.323 3499.479)    2.32 3499.48  898.42\n",
       "\n",
       "[339 rows x 5 columns]"
      ]
     },
     "execution_count": 8,
     "metadata": {},
     "output_type": "execute_result"
    }
   ],
   "source": [
    "interfaces_coords = gg.vector.extract_xyz(gdf=interfaces, dem=topo_raster)\n",
    "interfaces_coords = interfaces_coords.sort_values(by='formation', ascending=False)\n",
    "interfaces_coords"
   ]
  },
  {
   "cell_type": "code",
   "execution_count": 9,
   "id": "involved-association",
   "metadata": {
    "ExecuteTime": {
     "end_time": "2021-03-28T11:01:08.080113Z",
     "start_time": "2021-03-28T11:01:07.858906Z"
    }
   },
   "outputs": [
    {
     "data": {
      "image/png": "[encoded data removed]",
      "text/plain": [
       "<Figure size 748.8x514.8 with 1 Axes>"
      ]
     },
     "metadata": {},
     "output_type": "display_data"
    }
   ],
   "source": [
    "fig, ax = plt.subplots(1)\n",
    "\n",
    "topo.plot(ax=ax, column='Z', cmap='gist_earth', aspect='equal')\n",
    "interfaces.plot(ax=ax, column='formation', legend=True, aspect='equal')\n",
    "\n",
    "plt.grid()"
   ]
  },
  {
   "cell_type": "code",
   "execution_count": 10,
   "id": "whole-segment",
   "metadata": {
    "ExecuteTime": {
     "end_time": "2021-03-28T11:01:08.111498Z",
     "start_time": "2021-03-28T11:01:08.081987Z"
    }
   },
   "outputs": [
    {
     "data": {
      "text/html": [
       "<div>\n",
       "<style scoped>\n",
       "    .dataframe tbody tr th:only-of-type {\n",
       "        vertical-align: middle;\n",
       "    }\n",
       "\n",
       "    .dataframe tbody tr th {\n",
       "        vertical-align: top;\n",
       "    }\n",
       "\n",
       "    .dataframe thead th {\n",
       "        text-align: right;\n",
       "    }\n",
       "</style>\n",
       "<table border=\"1\" class=\"dataframe\">\n",
       "  <thead>\n",
       "    <tr style=\"text-align: right;\">\n",
       "      <th></th>\n",
       "      <th>id</th>\n",
       "      <th>formation</th>\n",
       "      <th>Z</th>\n",
       "      <th>geometry</th>\n",
       "    </tr>\n",
       "  </thead>\n",
       "  <tbody>\n",
       "    <tr>\n",
       "      <th>0</th>\n",
       "      <td>2</td>\n",
       "      <td>C</td>\n",
       "      <td>700</td>\n",
       "      <td>LINESTRING (2236.563 2441.337, 2244.658 1935.973)</td>\n",
       "    </tr>\n",
       "    <tr>\n",
       "      <th>1</th>\n",
       "      <td>1</td>\n",
       "      <td>C</td>\n",
       "      <td>600</td>\n",
       "      <td>LINESTRING (2752.335 2715.413, 2750.022 1809.921)</td>\n",
       "    </tr>\n",
       "    <tr>\n",
       "      <th>2</th>\n",
       "      <td>2</td>\n",
       "      <td>D</td>\n",
       "      <td>800</td>\n",
       "      <td>LINESTRING (2242.924 3096.460, 2290.338 441.276)</td>\n",
       "    </tr>\n",
       "    <tr>\n",
       "      <th>3</th>\n",
       "      <td>3</td>\n",
       "      <td>D</td>\n",
       "      <td>900</td>\n",
       "      <td>LINESTRING (1739.873 2780.752, 1758.376 1605.810)</td>\n",
       "    </tr>\n",
       "    <tr>\n",
       "      <th>4</th>\n",
       "      <td>4</td>\n",
       "      <td>D</td>\n",
       "      <td>1000</td>\n",
       "      <td>LINESTRING (1236.822 2394.501, 1239.134 1677.509)</td>\n",
       "    </tr>\n",
       "    <tr>\n",
       "      <th>5</th>\n",
       "      <td>4</td>\n",
       "      <td>E</td>\n",
       "      <td>1100</td>\n",
       "      <td>LINESTRING (1245.495 953.000, 1236.243 3100.507)</td>\n",
       "    </tr>\n",
       "    <tr>\n",
       "      <th>6</th>\n",
       "      <td>3</td>\n",
       "      <td>E</td>\n",
       "      <td>1000</td>\n",
       "      <td>LINESTRING (1749.124 3284.381, 1790.756 364.372)</td>\n",
       "    </tr>\n",
       "    <tr>\n",
       "      <th>7</th>\n",
       "      <td>2</td>\n",
       "      <td>E</td>\n",
       "      <td>900</td>\n",
       "      <td>LINESTRING (2242.345 63.698, 2259.692 3551.519)</td>\n",
       "    </tr>\n",
       "    <tr>\n",
       "      <th>8</th>\n",
       "      <td>1</td>\n",
       "      <td>F</td>\n",
       "      <td>1000</td>\n",
       "      <td>LINESTRING (2012.214 86.827, 2005.275 3738.862)</td>\n",
       "    </tr>\n",
       "    <tr>\n",
       "      <th>9</th>\n",
       "      <td>2</td>\n",
       "      <td>F</td>\n",
       "      <td>1100</td>\n",
       "      <td>LINESTRING (1534.026 272.435, 1499.911 3496.010)</td>\n",
       "    </tr>\n",
       "    <tr>\n",
       "      <th>10</th>\n",
       "      <td>1</td>\n",
       "      <td>A</td>\n",
       "      <td>800</td>\n",
       "      <td>LINESTRING (486.292 2124.473, 495.544 1456.051)</td>\n",
       "    </tr>\n",
       "    <tr>\n",
       "      <th>11</th>\n",
       "      <td>2</td>\n",
       "      <td>A</td>\n",
       "      <td>900</td>\n",
       "      <td>LINESTRING (2.323 3499.479, 11.574 307.707)</td>\n",
       "    </tr>\n",
       "    <tr>\n",
       "      <th>12</th>\n",
       "      <td>5</td>\n",
       "      <td>C</td>\n",
       "      <td>1000</td>\n",
       "      <td>LINESTRING (736.009 2693.445, 761.729 511.476)</td>\n",
       "    </tr>\n",
       "    <tr>\n",
       "      <th>13</th>\n",
       "      <td>1</td>\n",
       "      <td>B</td>\n",
       "      <td>800</td>\n",
       "      <td>LINESTRING (489.213 2109.525, 496.562 1470.183)</td>\n",
       "    </tr>\n",
       "    <tr>\n",
       "      <th>14</th>\n",
       "      <td>2</td>\n",
       "      <td>B</td>\n",
       "      <td>900</td>\n",
       "      <td>LINESTRING (2.323 3499.479, 11.574 307.707)</td>\n",
       "    </tr>\n",
       "    <tr>\n",
       "      <th>15</th>\n",
       "      <td>1</td>\n",
       "      <td>D</td>\n",
       "      <td>700</td>\n",
       "      <td>LINESTRING (2752.631 1310.960, 2747.732 3388.209)</td>\n",
       "    </tr>\n",
       "    <tr>\n",
       "      <th>16</th>\n",
       "      <td>1</td>\n",
       "      <td>E</td>\n",
       "      <td>800</td>\n",
       "      <td>LINESTRING (2745.282 835.740, 2750.181 3753.197)</td>\n",
       "    </tr>\n",
       "    <tr>\n",
       "      <th>17</th>\n",
       "      <td>3</td>\n",
       "      <td>C</td>\n",
       "      <td>800</td>\n",
       "      <td>LINESTRING (1759.324 1605.522, 1739.727 2783.774)</td>\n",
       "    </tr>\n",
       "    <tr>\n",
       "      <th>18</th>\n",
       "      <td>4</td>\n",
       "      <td>C</td>\n",
       "      <td>900</td>\n",
       "      <td>LINESTRING (1238.786 1676.560, 1237.562 2396.739)</td>\n",
       "    </tr>\n",
       "  </tbody>\n",
       "</table>\n",
       "</div>"
      ],
      "text/plain": [
       "    id formation     Z                                           geometry\n",
       "0    2         C   700  LINESTRING (2236.563 2441.337, 2244.658 1935.973)\n",
       "1    1         C   600  LINESTRING (2752.335 2715.413, 2750.022 1809.921)\n",
       "2    2         D   800   LINESTRING (2242.924 3096.460, 2290.338 441.276)\n",
       "3    3         D   900  LINESTRING (1739.873 2780.752, 1758.376 1605.810)\n",
       "4    4         D  1000  LINESTRING (1236.822 2394.501, 1239.134 1677.509)\n",
       "5    4         E  1100   LINESTRING (1245.495 953.000, 1236.243 3100.507)\n",
       "6    3         E  1000   LINESTRING (1749.124 3284.381, 1790.756 364.372)\n",
       "7    2         E   900    LINESTRING (2242.345 63.698, 2259.692 3551.519)\n",
       "8    1         F  1000    LINESTRING (2012.214 86.827, 2005.275 3738.862)\n",
       "9    2         F  1100   LINESTRING (1534.026 272.435, 1499.911 3496.010)\n",
       "10   1         A   800    LINESTRING (486.292 2124.473, 495.544 1456.051)\n",
       "11   2         A   900        LINESTRING (2.323 3499.479, 11.574 307.707)\n",
       "12   5         C  1000     LINESTRING (736.009 2693.445, 761.729 511.476)\n",
       "13   1         B   800    LINESTRING (489.213 2109.525, 496.562 1470.183)\n",
       "14   2         B   900        LINESTRING (2.323 3499.479, 11.574 307.707)\n",
       "15   1         D   700  LINESTRING (2752.631 1310.960, 2747.732 3388.209)\n",
       "16   1         E   800   LINESTRING (2745.282 835.740, 2750.181 3753.197)\n",
       "17   3         C   800  LINESTRING (1759.324 1605.522, 1739.727 2783.774)\n",
       "18   4         C   900  LINESTRING (1238.786 1676.560, 1237.562 2396.739)"
      ]
     },
     "execution_count": 10,
     "metadata": {},
     "output_type": "execute_result"
    }
   ],
   "source": [
    "strikes = gpd.read_file('strikes3.shp')\n",
    "strikes"
   ]
  },
  {
   "cell_type": "code",
   "execution_count": 11,
   "id": "occupational-emergency",
   "metadata": {
    "ExecuteTime": {
     "end_time": "2021-03-28T11:01:08.175090Z",
     "start_time": "2021-03-28T11:01:08.112498Z"
    }
   },
   "outputs": [
    {
     "data": {
      "text/html": [
       "<div>\n",
       "<style scoped>\n",
       "    .dataframe tbody tr th:only-of-type {\n",
       "        vertical-align: middle;\n",
       "    }\n",
       "\n",
       "    .dataframe tbody tr th {\n",
       "        vertical-align: top;\n",
       "    }\n",
       "\n",
       "    .dataframe thead th {\n",
       "        text-align: right;\n",
       "    }\n",
       "</style>\n",
       "<table border=\"1\" class=\"dataframe\">\n",
       "  <thead>\n",
       "    <tr style=\"text-align: right;\">\n",
       "      <th></th>\n",
       "      <th>dip</th>\n",
       "      <th>azimuth</th>\n",
       "      <th>Z</th>\n",
       "      <th>geometry</th>\n",
       "      <th>polarity</th>\n",
       "      <th>formation</th>\n",
       "      <th>X</th>\n",
       "      <th>Y</th>\n",
       "    </tr>\n",
       "  </thead>\n",
       "  <tbody>\n",
       "    <tr>\n",
       "      <th>0</th>\n",
       "      <td>11.70</td>\n",
       "      <td>89.81</td>\n",
       "      <td>850.00</td>\n",
       "      <td>POINT (249.918 1846.723)</td>\n",
       "      <td>1.00</td>\n",
       "      <td>B</td>\n",
       "      <td>249.92</td>\n",
       "      <td>1846.72</td>\n",
       "    </tr>\n",
       "  </tbody>\n",
       "</table>\n",
       "</div>"
      ],
      "text/plain": [
       "    dip  azimuth      Z                  geometry  polarity formation      X  \\\n",
       "0 11.70    89.81 850.00  POINT (249.918 1846.723)      1.00         B 249.92   \n",
       "\n",
       "        Y  \n",
       "0 1846.72  "
      ]
     },
     "execution_count": 11,
     "metadata": {},
     "output_type": "execute_result"
    }
   ],
   "source": [
    "orientations_b = gg.vector.calculate_orientations_from_strike_lines(gdf=strikes[strikes['formation']=='B'].sort_values(by='Z', ascending=True).reset_index())\n",
    "orientations_b"
   ]
  },
  {
   "cell_type": "code",
   "execution_count": 12,
   "id": "nonprofit-editing",
   "metadata": {
    "ExecuteTime": {
     "end_time": "2021-03-28T11:01:08.239131Z",
     "start_time": "2021-03-28T11:01:08.177092Z"
    }
   },
   "outputs": [
    {
     "data": {
      "text/html": [
       "<div>\n",
       "<style scoped>\n",
       "    .dataframe tbody tr th:only-of-type {\n",
       "        vertical-align: middle;\n",
       "    }\n",
       "\n",
       "    .dataframe tbody tr th {\n",
       "        vertical-align: top;\n",
       "    }\n",
       "\n",
       "    .dataframe thead th {\n",
       "        text-align: right;\n",
       "    }\n",
       "</style>\n",
       "<table border=\"1\" class=\"dataframe\">\n",
       "  <thead>\n",
       "    <tr style=\"text-align: right;\">\n",
       "      <th></th>\n",
       "      <th>dip</th>\n",
       "      <th>azimuth</th>\n",
       "      <th>Z</th>\n",
       "      <th>geometry</th>\n",
       "      <th>polarity</th>\n",
       "      <th>formation</th>\n",
       "      <th>X</th>\n",
       "      <th>Y</th>\n",
       "    </tr>\n",
       "  </thead>\n",
       "  <tbody>\n",
       "    <tr>\n",
       "      <th>0</th>\n",
       "      <td>11.19</td>\n",
       "      <td>89.89</td>\n",
       "      <td>650.00</td>\n",
       "      <td>POINT (2495.895 2225.661)</td>\n",
       "      <td>1.00</td>\n",
       "      <td>C</td>\n",
       "      <td>2495.89</td>\n",
       "      <td>2225.66</td>\n",
       "    </tr>\n",
       "    <tr>\n",
       "      <th>1</th>\n",
       "      <td>11.52</td>\n",
       "      <td>89.05</td>\n",
       "      <td>750.00</td>\n",
       "      <td>POINT (1995.068 2191.652)</td>\n",
       "      <td>1.00</td>\n",
       "      <td>C</td>\n",
       "      <td>1995.07</td>\n",
       "      <td>2191.65</td>\n",
       "    </tr>\n",
       "    <tr>\n",
       "      <th>2</th>\n",
       "      <td>11.12</td>\n",
       "      <td>89.28</td>\n",
       "      <td>850.00</td>\n",
       "      <td>POINT (1493.850 2115.649)</td>\n",
       "      <td>1.00</td>\n",
       "      <td>C</td>\n",
       "      <td>1493.85</td>\n",
       "      <td>2115.65</td>\n",
       "    </tr>\n",
       "    <tr>\n",
       "      <th>3</th>\n",
       "      <td>11.52</td>\n",
       "      <td>89.38</td>\n",
       "      <td>950.00</td>\n",
       "      <td>POINT (993.522 1819.555)</td>\n",
       "      <td>1.00</td>\n",
       "      <td>C</td>\n",
       "      <td>993.52</td>\n",
       "      <td>1819.56</td>\n",
       "    </tr>\n",
       "  </tbody>\n",
       "</table>\n",
       "</div>"
      ],
      "text/plain": [
       "    dip  azimuth      Z                   geometry  polarity formation  \\\n",
       "0 11.19    89.89 650.00  POINT (2495.895 2225.661)      1.00         C   \n",
       "1 11.52    89.05 750.00  POINT (1995.068 2191.652)      1.00         C   \n",
       "2 11.12    89.28 850.00  POINT (1493.850 2115.649)      1.00         C   \n",
       "3 11.52    89.38 950.00   POINT (993.522 1819.555)      1.00         C   \n",
       "\n",
       "        X       Y  \n",
       "0 2495.89 2225.66  \n",
       "1 1995.07 2191.65  \n",
       "2 1493.85 2115.65  \n",
       "3  993.52 1819.56  "
      ]
     },
     "execution_count": 12,
     "metadata": {},
     "output_type": "execute_result"
    }
   ],
   "source": [
    "orientations_c = gg.vector.calculate_orientations_from_strike_lines(gdf=strikes[strikes['formation']=='C'].sort_values(by='Z', ascending=True).reset_index())\n",
    "orientations_c"
   ]
  },
  {
   "cell_type": "code",
   "execution_count": 13,
   "id": "ancient-patient",
   "metadata": {
    "ExecuteTime": {
     "end_time": "2021-03-28T11:01:08.302136Z",
     "start_time": "2021-03-28T11:01:08.241106Z"
    }
   },
   "outputs": [
    {
     "data": {
      "text/html": [
       "<div>\n",
       "<style scoped>\n",
       "    .dataframe tbody tr th:only-of-type {\n",
       "        vertical-align: middle;\n",
       "    }\n",
       "\n",
       "    .dataframe tbody tr th {\n",
       "        vertical-align: top;\n",
       "    }\n",
       "\n",
       "    .dataframe thead th {\n",
       "        text-align: right;\n",
       "    }\n",
       "</style>\n",
       "<table border=\"1\" class=\"dataframe\">\n",
       "  <thead>\n",
       "    <tr style=\"text-align: right;\">\n",
       "      <th></th>\n",
       "      <th>dip</th>\n",
       "      <th>azimuth</th>\n",
       "      <th>Z</th>\n",
       "      <th>geometry</th>\n",
       "      <th>polarity</th>\n",
       "      <th>formation</th>\n",
       "      <th>X</th>\n",
       "      <th>Y</th>\n",
       "    </tr>\n",
       "  </thead>\n",
       "  <tbody>\n",
       "    <tr>\n",
       "      <th>0</th>\n",
       "      <td>11.82</td>\n",
       "      <td>89.31</td>\n",
       "      <td>750.00</td>\n",
       "      <td>POINT (2508.406 2059.226)</td>\n",
       "      <td>1.00</td>\n",
       "      <td>D</td>\n",
       "      <td>2508.41</td>\n",
       "      <td>2059.23</td>\n",
       "    </tr>\n",
       "    <tr>\n",
       "      <th>1</th>\n",
       "      <td>11.12</td>\n",
       "      <td>89.00</td>\n",
       "      <td>850.00</td>\n",
       "      <td>POINT (2007.877 1981.074)</td>\n",
       "      <td>1.00</td>\n",
       "      <td>D</td>\n",
       "      <td>2007.88</td>\n",
       "      <td>1981.07</td>\n",
       "    </tr>\n",
       "    <tr>\n",
       "      <th>2</th>\n",
       "      <td>11.11</td>\n",
       "      <td>89.29</td>\n",
       "      <td>950.00</td>\n",
       "      <td>POINT (1493.551 2114.643)</td>\n",
       "      <td>1.00</td>\n",
       "      <td>D</td>\n",
       "      <td>1493.55</td>\n",
       "      <td>2114.64</td>\n",
       "    </tr>\n",
       "  </tbody>\n",
       "</table>\n",
       "</div>"
      ],
      "text/plain": [
       "    dip  azimuth      Z                   geometry  polarity formation  \\\n",
       "0 11.82    89.31 750.00  POINT (2508.406 2059.226)      1.00         D   \n",
       "1 11.12    89.00 850.00  POINT (2007.877 1981.074)      1.00         D   \n",
       "2 11.11    89.29 950.00  POINT (1493.551 2114.643)      1.00         D   \n",
       "\n",
       "        X       Y  \n",
       "0 2508.41 2059.23  \n",
       "1 2007.88 1981.07  \n",
       "2 1493.55 2114.64  "
      ]
     },
     "execution_count": 13,
     "metadata": {},
     "output_type": "execute_result"
    }
   ],
   "source": [
    "orientations_d = gg.vector.calculate_orientations_from_strike_lines(gdf=strikes[strikes['formation']=='D'].sort_values(by='Z', ascending=True).reset_index())\n",
    "orientations_d"
   ]
  },
  {
   "cell_type": "code",
   "execution_count": 14,
   "id": "norwegian-summary",
   "metadata": {
    "ExecuteTime": {
     "end_time": "2021-03-28T11:01:08.366134Z",
     "start_time": "2021-03-28T11:01:08.304121Z"
    }
   },
   "outputs": [
    {
     "data": {
      "text/html": [
       "<div>\n",
       "<style scoped>\n",
       "    .dataframe tbody tr th:only-of-type {\n",
       "        vertical-align: middle;\n",
       "    }\n",
       "\n",
       "    .dataframe tbody tr th {\n",
       "        vertical-align: top;\n",
       "    }\n",
       "\n",
       "    .dataframe thead th {\n",
       "        text-align: right;\n",
       "    }\n",
       "</style>\n",
       "<table border=\"1\" class=\"dataframe\">\n",
       "  <thead>\n",
       "    <tr style=\"text-align: right;\">\n",
       "      <th></th>\n",
       "      <th>dip</th>\n",
       "      <th>azimuth</th>\n",
       "      <th>Z</th>\n",
       "      <th>geometry</th>\n",
       "      <th>polarity</th>\n",
       "      <th>formation</th>\n",
       "      <th>X</th>\n",
       "      <th>Y</th>\n",
       "    </tr>\n",
       "  </thead>\n",
       "  <tbody>\n",
       "    <tr>\n",
       "      <th>0</th>\n",
       "      <td>11.53</td>\n",
       "      <td>90.21</td>\n",
       "      <td>850.00</td>\n",
       "      <td>POINT (2499.375 2051.039)</td>\n",
       "      <td>1.00</td>\n",
       "      <td>E</td>\n",
       "      <td>2499.38</td>\n",
       "      <td>2051.04</td>\n",
       "    </tr>\n",
       "    <tr>\n",
       "      <th>1</th>\n",
       "      <td>12.45</td>\n",
       "      <td>89.83</td>\n",
       "      <td>950.00</td>\n",
       "      <td>POINT (2010.479 1815.993)</td>\n",
       "      <td>1.00</td>\n",
       "      <td>E</td>\n",
       "      <td>2010.48</td>\n",
       "      <td>1815.99</td>\n",
       "    </tr>\n",
       "    <tr>\n",
       "      <th>2</th>\n",
       "      <td>10.98</td>\n",
       "      <td>89.38</td>\n",
       "      <td>1050.00</td>\n",
       "      <td>POINT (1505.405 1925.565)</td>\n",
       "      <td>1.00</td>\n",
       "      <td>E</td>\n",
       "      <td>1505.40</td>\n",
       "      <td>1925.57</td>\n",
       "    </tr>\n",
       "  </tbody>\n",
       "</table>\n",
       "</div>"
      ],
      "text/plain": [
       "    dip  azimuth       Z                   geometry  polarity formation  \\\n",
       "0 11.53    90.21  850.00  POINT (2499.375 2051.039)      1.00         E   \n",
       "1 12.45    89.83  950.00  POINT (2010.479 1815.993)      1.00         E   \n",
       "2 10.98    89.38 1050.00  POINT (1505.405 1925.565)      1.00         E   \n",
       "\n",
       "        X       Y  \n",
       "0 2499.38 2051.04  \n",
       "1 2010.48 1815.99  \n",
       "2 1505.40 1925.57  "
      ]
     },
     "execution_count": 14,
     "metadata": {},
     "output_type": "execute_result"
    }
   ],
   "source": [
    "orientations_e = gg.vector.calculate_orientations_from_strike_lines(gdf=strikes[strikes['formation']=='E'].sort_values(by='Z', ascending=True).reset_index())\n",
    "orientations_e"
   ]
  },
  {
   "cell_type": "code",
   "execution_count": 15,
   "id": "covered-quest",
   "metadata": {
    "ExecuteTime": {
     "end_time": "2021-03-28T11:01:08.413160Z",
     "start_time": "2021-03-28T11:01:08.367136Z"
    }
   },
   "outputs": [
    {
     "data": {
      "text/html": [
       "<div>\n",
       "<style scoped>\n",
       "    .dataframe tbody tr th:only-of-type {\n",
       "        vertical-align: middle;\n",
       "    }\n",
       "\n",
       "    .dataframe tbody tr th {\n",
       "        vertical-align: top;\n",
       "    }\n",
       "\n",
       "    .dataframe thead th {\n",
       "        text-align: right;\n",
       "    }\n",
       "</style>\n",
       "<table border=\"1\" class=\"dataframe\">\n",
       "  <thead>\n",
       "    <tr style=\"text-align: right;\">\n",
       "      <th></th>\n",
       "      <th>dip</th>\n",
       "      <th>azimuth</th>\n",
       "      <th>Z</th>\n",
       "      <th>geometry</th>\n",
       "      <th>polarity</th>\n",
       "      <th>formation</th>\n",
       "      <th>X</th>\n",
       "      <th>Y</th>\n",
       "    </tr>\n",
       "  </thead>\n",
       "  <tbody>\n",
       "    <tr>\n",
       "      <th>0</th>\n",
       "      <td>11.82</td>\n",
       "      <td>89.67</td>\n",
       "      <td>1050.00</td>\n",
       "      <td>POINT (1762.857 1898.533)</td>\n",
       "      <td>1.00</td>\n",
       "      <td>F</td>\n",
       "      <td>1762.86</td>\n",
       "      <td>1898.53</td>\n",
       "    </tr>\n",
       "  </tbody>\n",
       "</table>\n",
       "</div>"
      ],
      "text/plain": [
       "    dip  azimuth       Z                   geometry  polarity formation  \\\n",
       "0 11.82    89.67 1050.00  POINT (1762.857 1898.533)      1.00         F   \n",
       "\n",
       "        X       Y  \n",
       "0 1762.86 1898.53  "
      ]
     },
     "execution_count": 15,
     "metadata": {},
     "output_type": "execute_result"
    }
   ],
   "source": [
    "orientations_f = gg.vector.calculate_orientations_from_strike_lines(gdf=strikes[strikes['formation']=='F'].sort_values(by='Z', ascending=True).reset_index())\n",
    "orientations_f"
   ]
  },
  {
   "cell_type": "code",
   "execution_count": 16,
   "id": "sitting-reproduction",
   "metadata": {
    "ExecuteTime": {
     "end_time": "2021-03-28T11:01:08.444605Z",
     "start_time": "2021-03-28T11:01:08.415147Z"
    }
   },
   "outputs": [
    {
     "data": {
      "text/html": [
       "<div>\n",
       "<style scoped>\n",
       "    .dataframe tbody tr th:only-of-type {\n",
       "        vertical-align: middle;\n",
       "    }\n",
       "\n",
       "    .dataframe tbody tr th {\n",
       "        vertical-align: top;\n",
       "    }\n",
       "\n",
       "    .dataframe thead th {\n",
       "        text-align: right;\n",
       "    }\n",
       "</style>\n",
       "<table border=\"1\" class=\"dataframe\">\n",
       "  <thead>\n",
       "    <tr style=\"text-align: right;\">\n",
       "      <th></th>\n",
       "      <th>index</th>\n",
       "      <th>dip</th>\n",
       "      <th>azimuth</th>\n",
       "      <th>Z</th>\n",
       "      <th>geometry</th>\n",
       "      <th>polarity</th>\n",
       "      <th>formation</th>\n",
       "      <th>X</th>\n",
       "      <th>Y</th>\n",
       "    </tr>\n",
       "  </thead>\n",
       "  <tbody>\n",
       "    <tr>\n",
       "      <th>0</th>\n",
       "      <td>0</td>\n",
       "      <td>11.70</td>\n",
       "      <td>89.81</td>\n",
       "      <td>850.00</td>\n",
       "      <td>POINT (249.918 1846.723)</td>\n",
       "      <td>1.00</td>\n",
       "      <td>B</td>\n",
       "      <td>249.92</td>\n",
       "      <td>1846.72</td>\n",
       "    </tr>\n",
       "    <tr>\n",
       "      <th>1</th>\n",
       "      <td>0</td>\n",
       "      <td>11.19</td>\n",
       "      <td>89.89</td>\n",
       "      <td>650.00</td>\n",
       "      <td>POINT (2495.895 2225.661)</td>\n",
       "      <td>1.00</td>\n",
       "      <td>C</td>\n",
       "      <td>2495.89</td>\n",
       "      <td>2225.66</td>\n",
       "    </tr>\n",
       "    <tr>\n",
       "      <th>2</th>\n",
       "      <td>1</td>\n",
       "      <td>11.52</td>\n",
       "      <td>89.05</td>\n",
       "      <td>750.00</td>\n",
       "      <td>POINT (1995.068 2191.652)</td>\n",
       "      <td>1.00</td>\n",
       "      <td>C</td>\n",
       "      <td>1995.07</td>\n",
       "      <td>2191.65</td>\n",
       "    </tr>\n",
       "    <tr>\n",
       "      <th>3</th>\n",
       "      <td>2</td>\n",
       "      <td>11.12</td>\n",
       "      <td>89.28</td>\n",
       "      <td>850.00</td>\n",
       "      <td>POINT (1493.850 2115.649)</td>\n",
       "      <td>1.00</td>\n",
       "      <td>C</td>\n",
       "      <td>1493.85</td>\n",
       "      <td>2115.65</td>\n",
       "    </tr>\n",
       "    <tr>\n",
       "      <th>4</th>\n",
       "      <td>3</td>\n",
       "      <td>11.52</td>\n",
       "      <td>89.38</td>\n",
       "      <td>950.00</td>\n",
       "      <td>POINT (993.522 1819.555)</td>\n",
       "      <td>1.00</td>\n",
       "      <td>C</td>\n",
       "      <td>993.52</td>\n",
       "      <td>1819.56</td>\n",
       "    </tr>\n",
       "    <tr>\n",
       "      <th>5</th>\n",
       "      <td>0</td>\n",
       "      <td>11.82</td>\n",
       "      <td>89.31</td>\n",
       "      <td>750.00</td>\n",
       "      <td>POINT (2508.406 2059.226)</td>\n",
       "      <td>1.00</td>\n",
       "      <td>D</td>\n",
       "      <td>2508.41</td>\n",
       "      <td>2059.23</td>\n",
       "    </tr>\n",
       "    <tr>\n",
       "      <th>6</th>\n",
       "      <td>1</td>\n",
       "      <td>11.12</td>\n",
       "      <td>89.00</td>\n",
       "      <td>850.00</td>\n",
       "      <td>POINT (2007.877 1981.074)</td>\n",
       "      <td>1.00</td>\n",
       "      <td>D</td>\n",
       "      <td>2007.88</td>\n",
       "      <td>1981.07</td>\n",
       "    </tr>\n",
       "    <tr>\n",
       "      <th>7</th>\n",
       "      <td>2</td>\n",
       "      <td>11.11</td>\n",
       "      <td>89.29</td>\n",
       "      <td>950.00</td>\n",
       "      <td>POINT (1493.551 2114.643)</td>\n",
       "      <td>1.00</td>\n",
       "      <td>D</td>\n",
       "      <td>1493.55</td>\n",
       "      <td>2114.64</td>\n",
       "    </tr>\n",
       "    <tr>\n",
       "      <th>8</th>\n",
       "      <td>0</td>\n",
       "      <td>11.53</td>\n",
       "      <td>90.21</td>\n",
       "      <td>850.00</td>\n",
       "      <td>POINT (2499.375 2051.039)</td>\n",
       "      <td>1.00</td>\n",
       "      <td>E</td>\n",
       "      <td>2499.38</td>\n",
       "      <td>2051.04</td>\n",
       "    </tr>\n",
       "    <tr>\n",
       "      <th>9</th>\n",
       "      <td>1</td>\n",
       "      <td>12.45</td>\n",
       "      <td>89.83</td>\n",
       "      <td>950.00</td>\n",
       "      <td>POINT (2010.479 1815.993)</td>\n",
       "      <td>1.00</td>\n",
       "      <td>E</td>\n",
       "      <td>2010.48</td>\n",
       "      <td>1815.99</td>\n",
       "    </tr>\n",
       "    <tr>\n",
       "      <th>10</th>\n",
       "      <td>2</td>\n",
       "      <td>10.98</td>\n",
       "      <td>89.38</td>\n",
       "      <td>1050.00</td>\n",
       "      <td>POINT (1505.405 1925.565)</td>\n",
       "      <td>1.00</td>\n",
       "      <td>E</td>\n",
       "      <td>1505.40</td>\n",
       "      <td>1925.57</td>\n",
       "    </tr>\n",
       "    <tr>\n",
       "      <th>11</th>\n",
       "      <td>0</td>\n",
       "      <td>11.82</td>\n",
       "      <td>89.67</td>\n",
       "      <td>1050.00</td>\n",
       "      <td>POINT (1762.857 1898.533)</td>\n",
       "      <td>1.00</td>\n",
       "      <td>F</td>\n",
       "      <td>1762.86</td>\n",
       "      <td>1898.53</td>\n",
       "    </tr>\n",
       "  </tbody>\n",
       "</table>\n",
       "</div>"
      ],
      "text/plain": [
       "    index   dip  azimuth       Z                   geometry  polarity  \\\n",
       "0       0 11.70    89.81  850.00   POINT (249.918 1846.723)      1.00   \n",
       "1       0 11.19    89.89  650.00  POINT (2495.895 2225.661)      1.00   \n",
       "2       1 11.52    89.05  750.00  POINT (1995.068 2191.652)      1.00   \n",
       "3       2 11.12    89.28  850.00  POINT (1493.850 2115.649)      1.00   \n",
       "4       3 11.52    89.38  950.00   POINT (993.522 1819.555)      1.00   \n",
       "5       0 11.82    89.31  750.00  POINT (2508.406 2059.226)      1.00   \n",
       "6       1 11.12    89.00  850.00  POINT (2007.877 1981.074)      1.00   \n",
       "7       2 11.11    89.29  950.00  POINT (1493.551 2114.643)      1.00   \n",
       "8       0 11.53    90.21  850.00  POINT (2499.375 2051.039)      1.00   \n",
       "9       1 12.45    89.83  950.00  POINT (2010.479 1815.993)      1.00   \n",
       "10      2 10.98    89.38 1050.00  POINT (1505.405 1925.565)      1.00   \n",
       "11      0 11.82    89.67 1050.00  POINT (1762.857 1898.533)      1.00   \n",
       "\n",
       "   formation       X       Y  \n",
       "0          B  249.92 1846.72  \n",
       "1          C 2495.89 2225.66  \n",
       "2          C 1995.07 2191.65  \n",
       "3          C 1493.85 2115.65  \n",
       "4          C  993.52 1819.56  \n",
       "5          D 2508.41 2059.23  \n",
       "6          D 2007.88 1981.07  \n",
       "7          D 1493.55 2114.64  \n",
       "8          E 2499.38 2051.04  \n",
       "9          E 2010.48 1815.99  \n",
       "10         E 1505.40 1925.57  \n",
       "11         F 1762.86 1898.53  "
      ]
     },
     "execution_count": 16,
     "metadata": {},
     "output_type": "execute_result"
    }
   ],
   "source": [
    "import pandas as pd\n",
    "orientations = pd.concat([orientations_b, orientations_c, orientations_d, orientations_e, orientations_f]).reset_index()\n",
    "orientations = orientations[orientations['formation'].isin(['F', 'E', 'D', 'C', 'B'])]\n",
    "orientations"
   ]
  },
  {
   "cell_type": "code",
   "execution_count": 17,
   "id": "realistic-breed",
   "metadata": {
    "ExecuteTime": {
     "end_time": "2021-03-28T11:01:08.460620Z",
     "start_time": "2021-03-28T11:01:08.446616Z"
    }
   },
   "outputs": [
    {
     "data": {
      "text/html": [
       "<div>\n",
       "<style scoped>\n",
       "    .dataframe tbody tr th:only-of-type {\n",
       "        vertical-align: middle;\n",
       "    }\n",
       "\n",
       "    .dataframe tbody tr th {\n",
       "        vertical-align: top;\n",
       "    }\n",
       "\n",
       "    .dataframe thead th {\n",
       "        text-align: right;\n",
       "    }\n",
       "</style>\n",
       "<table border=\"1\" class=\"dataframe\">\n",
       "  <thead>\n",
       "    <tr style=\"text-align: right;\">\n",
       "      <th></th>\n",
       "      <th>index</th>\n",
       "      <th>dip</th>\n",
       "      <th>azimuth</th>\n",
       "      <th>Z</th>\n",
       "      <th>geometry</th>\n",
       "      <th>polarity</th>\n",
       "      <th>formation</th>\n",
       "      <th>X</th>\n",
       "      <th>Y</th>\n",
       "    </tr>\n",
       "  </thead>\n",
       "  <tbody>\n",
       "    <tr>\n",
       "      <th>0</th>\n",
       "      <td>0</td>\n",
       "      <td>11.70</td>\n",
       "      <td>89.81</td>\n",
       "      <td>850.00</td>\n",
       "      <td>POINT (249.918 1846.723)</td>\n",
       "      <td>1.00</td>\n",
       "      <td>B</td>\n",
       "      <td>249.92</td>\n",
       "      <td>1846.72</td>\n",
       "    </tr>\n",
       "    <tr>\n",
       "      <th>1</th>\n",
       "      <td>0</td>\n",
       "      <td>11.19</td>\n",
       "      <td>89.89</td>\n",
       "      <td>650.00</td>\n",
       "      <td>POINT (2495.895 2225.661)</td>\n",
       "      <td>1.00</td>\n",
       "      <td>C</td>\n",
       "      <td>2495.89</td>\n",
       "      <td>2225.66</td>\n",
       "    </tr>\n",
       "    <tr>\n",
       "      <th>2</th>\n",
       "      <td>1</td>\n",
       "      <td>11.52</td>\n",
       "      <td>89.05</td>\n",
       "      <td>750.00</td>\n",
       "      <td>POINT (1995.068 2191.652)</td>\n",
       "      <td>1.00</td>\n",
       "      <td>C</td>\n",
       "      <td>1995.07</td>\n",
       "      <td>2191.65</td>\n",
       "    </tr>\n",
       "    <tr>\n",
       "      <th>3</th>\n",
       "      <td>2</td>\n",
       "      <td>11.12</td>\n",
       "      <td>89.28</td>\n",
       "      <td>850.00</td>\n",
       "      <td>POINT (1493.850 2115.649)</td>\n",
       "      <td>1.00</td>\n",
       "      <td>C</td>\n",
       "      <td>1493.85</td>\n",
       "      <td>2115.65</td>\n",
       "    </tr>\n",
       "    <tr>\n",
       "      <th>4</th>\n",
       "      <td>3</td>\n",
       "      <td>11.52</td>\n",
       "      <td>89.38</td>\n",
       "      <td>950.00</td>\n",
       "      <td>POINT (993.522 1819.555)</td>\n",
       "      <td>1.00</td>\n",
       "      <td>C</td>\n",
       "      <td>993.52</td>\n",
       "      <td>1819.56</td>\n",
       "    </tr>\n",
       "    <tr>\n",
       "      <th>5</th>\n",
       "      <td>0</td>\n",
       "      <td>11.82</td>\n",
       "      <td>89.31</td>\n",
       "      <td>750.00</td>\n",
       "      <td>POINT (2508.406 2059.226)</td>\n",
       "      <td>1.00</td>\n",
       "      <td>D</td>\n",
       "      <td>2508.41</td>\n",
       "      <td>2059.23</td>\n",
       "    </tr>\n",
       "    <tr>\n",
       "      <th>6</th>\n",
       "      <td>1</td>\n",
       "      <td>11.12</td>\n",
       "      <td>89.00</td>\n",
       "      <td>850.00</td>\n",
       "      <td>POINT (2007.877 1981.074)</td>\n",
       "      <td>1.00</td>\n",
       "      <td>D</td>\n",
       "      <td>2007.88</td>\n",
       "      <td>1981.07</td>\n",
       "    </tr>\n",
       "    <tr>\n",
       "      <th>7</th>\n",
       "      <td>2</td>\n",
       "      <td>11.11</td>\n",
       "      <td>89.29</td>\n",
       "      <td>950.00</td>\n",
       "      <td>POINT (1493.551 2114.643)</td>\n",
       "      <td>1.00</td>\n",
       "      <td>D</td>\n",
       "      <td>1493.55</td>\n",
       "      <td>2114.64</td>\n",
       "    </tr>\n",
       "    <tr>\n",
       "      <th>8</th>\n",
       "      <td>0</td>\n",
       "      <td>11.53</td>\n",
       "      <td>90.21</td>\n",
       "      <td>850.00</td>\n",
       "      <td>POINT (2499.375 2051.039)</td>\n",
       "      <td>1.00</td>\n",
       "      <td>E</td>\n",
       "      <td>2499.38</td>\n",
       "      <td>2051.04</td>\n",
       "    </tr>\n",
       "    <tr>\n",
       "      <th>9</th>\n",
       "      <td>1</td>\n",
       "      <td>12.45</td>\n",
       "      <td>89.83</td>\n",
       "      <td>950.00</td>\n",
       "      <td>POINT (2010.479 1815.993)</td>\n",
       "      <td>1.00</td>\n",
       "      <td>E</td>\n",
       "      <td>2010.48</td>\n",
       "      <td>1815.99</td>\n",
       "    </tr>\n",
       "    <tr>\n",
       "      <th>10</th>\n",
       "      <td>2</td>\n",
       "      <td>10.98</td>\n",
       "      <td>89.38</td>\n",
       "      <td>1050.00</td>\n",
       "      <td>POINT (1505.405 1925.565)</td>\n",
       "      <td>1.00</td>\n",
       "      <td>E</td>\n",
       "      <td>1505.40</td>\n",
       "      <td>1925.57</td>\n",
       "    </tr>\n",
       "    <tr>\n",
       "      <th>11</th>\n",
       "      <td>0</td>\n",
       "      <td>11.82</td>\n",
       "      <td>89.67</td>\n",
       "      <td>1050.00</td>\n",
       "      <td>POINT (1762.857 1898.533)</td>\n",
       "      <td>1.00</td>\n",
       "      <td>F</td>\n",
       "      <td>1762.86</td>\n",
       "      <td>1898.53</td>\n",
       "    </tr>\n",
       "  </tbody>\n",
       "</table>\n",
       "</div>"
      ],
      "text/plain": [
       "    index   dip  azimuth       Z                   geometry  polarity  \\\n",
       "0       0 11.70    89.81  850.00   POINT (249.918 1846.723)      1.00   \n",
       "1       0 11.19    89.89  650.00  POINT (2495.895 2225.661)      1.00   \n",
       "2       1 11.52    89.05  750.00  POINT (1995.068 2191.652)      1.00   \n",
       "3       2 11.12    89.28  850.00  POINT (1493.850 2115.649)      1.00   \n",
       "4       3 11.52    89.38  950.00   POINT (993.522 1819.555)      1.00   \n",
       "5       0 11.82    89.31  750.00  POINT (2508.406 2059.226)      1.00   \n",
       "6       1 11.12    89.00  850.00  POINT (2007.877 1981.074)      1.00   \n",
       "7       2 11.11    89.29  950.00  POINT (1493.551 2114.643)      1.00   \n",
       "8       0 11.53    90.21  850.00  POINT (2499.375 2051.039)      1.00   \n",
       "9       1 12.45    89.83  950.00  POINT (2010.479 1815.993)      1.00   \n",
       "10      2 10.98    89.38 1050.00  POINT (1505.405 1925.565)      1.00   \n",
       "11      0 11.82    89.67 1050.00  POINT (1762.857 1898.533)      1.00   \n",
       "\n",
       "   formation       X       Y  \n",
       "0          B  249.92 1846.72  \n",
       "1          C 2495.89 2225.66  \n",
       "2          C 1995.07 2191.65  \n",
       "3          C 1493.85 2115.65  \n",
       "4          C  993.52 1819.56  \n",
       "5          D 2508.41 2059.23  \n",
       "6          D 2007.88 1981.07  \n",
       "7          D 1493.55 2114.64  \n",
       "8          E 2499.38 2051.04  \n",
       "9          E 2010.48 1815.99  \n",
       "10         E 1505.40 1925.57  \n",
       "11         F 1762.86 1898.53  "
      ]
     },
     "execution_count": 17,
     "metadata": {},
     "output_type": "execute_result"
    }
   ],
   "source": [
    "import numpy as np \n",
    "orientations['dip'] = np.abs(orientations['dip'].values)\n",
    "orientations"
   ]
  },
  {
   "cell_type": "code",
   "execution_count": 18,
   "id": "governing-brazilian",
   "metadata": {
    "ExecuteTime": {
     "end_time": "2021-03-28T11:01:08.476613Z",
     "start_time": "2021-03-28T11:01:08.461619Z"
    }
   },
   "outputs": [],
   "source": [
    "import gempy as gp"
   ]
  },
  {
   "cell_type": "code",
   "execution_count": 19,
   "id": "binding-fishing",
   "metadata": {
    "ExecuteTime": {
     "end_time": "2021-03-28T11:01:08.952090Z",
     "start_time": "2021-03-28T11:01:08.478623Z"
    }
   },
   "outputs": [
    {
     "data": {
      "text/plain": [
       "Model3  2021-03-28 13:01"
      ]
     },
     "execution_count": 19,
     "metadata": {},
     "output_type": "execute_result"
    }
   ],
   "source": [
    "geo_model = gp.create_model('Model3')\n",
    "geo_model"
   ]
  },
  {
   "cell_type": "code",
   "execution_count": 20,
   "id": "assisted-nothing",
   "metadata": {
    "ExecuteTime": {
     "end_time": "2021-03-28T11:01:09.093365Z",
     "start_time": "2021-03-28T11:01:08.953091Z"
    }
   },
   "outputs": [
    {
     "name": "stdout",
     "output_type": "stream",
     "text": [
      "Active grids: ['regular']\n"
     ]
    },
    {
     "data": {
      "text/plain": [
       "Model3  2021-03-28 13:01"
      ]
     },
     "execution_count": 20,
     "metadata": {},
     "output_type": "execute_result"
    }
   ],
   "source": [
    "gp.init_data(geo_model, [0,3000,0,3740,200,1200], [75,75,75],\n",
    "             surface_points_df = interfaces_coords[interfaces_coords['Z']!=0],\n",
    "             orientations_df = orientations,\n",
    "             default_values=True)"
   ]
  },
  {
   "cell_type": "code",
   "execution_count": 21,
   "id": "cutting-energy",
   "metadata": {
    "ExecuteTime": {
     "end_time": "2021-03-28T11:01:09.157399Z",
     "start_time": "2021-03-28T11:01:09.095365Z"
    }
   },
   "outputs": [
    {
     "data": {
      "text/html": [
       "<style  type=\"text/css\" >\n",
       "#T_d3249_row0_col3{\n",
       "            background-color:  #015482;\n",
       "        }#T_d3249_row1_col3{\n",
       "            background-color:  #9f0052;\n",
       "        }#T_d3249_row2_col3{\n",
       "            background-color:  #ffbe00;\n",
       "        }#T_d3249_row3_col3{\n",
       "            background-color:  #728f02;\n",
       "        }#T_d3249_row4_col3{\n",
       "            background-color:  #443988;\n",
       "        }</style><table id=\"T_d3249_\" ><thead>    <tr>        <th class=\"blank level0\" ></th>        <th class=\"col_heading level0 col0\" >surface</th>        <th class=\"col_heading level0 col1\" >series</th>        <th class=\"col_heading level0 col2\" >order_surfaces</th>        <th class=\"col_heading level0 col3\" >color</th>        <th class=\"col_heading level0 col4\" >id</th>    </tr></thead><tbody>\n",
       "                <tr>\n",
       "                        <th id=\"T_d3249_level0_row0\" class=\"row_heading level0 row0\" >0</th>\n",
       "                        <td id=\"T_d3249_row0_col0\" class=\"data row0 col0\" >F</td>\n",
       "                        <td id=\"T_d3249_row0_col1\" class=\"data row0 col1\" >Default series</td>\n",
       "                        <td id=\"T_d3249_row0_col2\" class=\"data row0 col2\" >1</td>\n",
       "                        <td id=\"T_d3249_row0_col3\" class=\"data row0 col3\" >#015482</td>\n",
       "                        <td id=\"T_d3249_row0_col4\" class=\"data row0 col4\" >1</td>\n",
       "            </tr>\n",
       "            <tr>\n",
       "                        <th id=\"T_d3249_level0_row1\" class=\"row_heading level0 row1\" >1</th>\n",
       "                        <td id=\"T_d3249_row1_col0\" class=\"data row1 col0\" >E</td>\n",
       "                        <td id=\"T_d3249_row1_col1\" class=\"data row1 col1\" >Default series</td>\n",
       "                        <td id=\"T_d3249_row1_col2\" class=\"data row1 col2\" >2</td>\n",
       "                        <td id=\"T_d3249_row1_col3\" class=\"data row1 col3\" >#9f0052</td>\n",
       "                        <td id=\"T_d3249_row1_col4\" class=\"data row1 col4\" >2</td>\n",
       "            </tr>\n",
       "            <tr>\n",
       "                        <th id=\"T_d3249_level0_row2\" class=\"row_heading level0 row2\" >2</th>\n",
       "                        <td id=\"T_d3249_row2_col0\" class=\"data row2 col0\" >D</td>\n",
       "                        <td id=\"T_d3249_row2_col1\" class=\"data row2 col1\" >Default series</td>\n",
       "                        <td id=\"T_d3249_row2_col2\" class=\"data row2 col2\" >3</td>\n",
       "                        <td id=\"T_d3249_row2_col3\" class=\"data row2 col3\" >#ffbe00</td>\n",
       "                        <td id=\"T_d3249_row2_col4\" class=\"data row2 col4\" >3</td>\n",
       "            </tr>\n",
       "            <tr>\n",
       "                        <th id=\"T_d3249_level0_row3\" class=\"row_heading level0 row3\" >3</th>\n",
       "                        <td id=\"T_d3249_row3_col0\" class=\"data row3 col0\" >C</td>\n",
       "                        <td id=\"T_d3249_row3_col1\" class=\"data row3 col1\" >Default series</td>\n",
       "                        <td id=\"T_d3249_row3_col2\" class=\"data row3 col2\" >4</td>\n",
       "                        <td id=\"T_d3249_row3_col3\" class=\"data row3 col3\" >#728f02</td>\n",
       "                        <td id=\"T_d3249_row3_col4\" class=\"data row3 col4\" >4</td>\n",
       "            </tr>\n",
       "            <tr>\n",
       "                        <th id=\"T_d3249_level0_row4\" class=\"row_heading level0 row4\" >4</th>\n",
       "                        <td id=\"T_d3249_row4_col0\" class=\"data row4 col0\" >B</td>\n",
       "                        <td id=\"T_d3249_row4_col1\" class=\"data row4 col1\" >Default series</td>\n",
       "                        <td id=\"T_d3249_row4_col2\" class=\"data row4 col2\" >5</td>\n",
       "                        <td id=\"T_d3249_row4_col3\" class=\"data row4 col3\" >#443988</td>\n",
       "                        <td id=\"T_d3249_row4_col4\" class=\"data row4 col4\" >5</td>\n",
       "            </tr>\n",
       "    </tbody></table>"
      ],
      "text/plain": [
       "  surface          series  order_surfaces    color  id\n",
       "0       F  Default series               1  #015482   1\n",
       "1       E  Default series               2  #9f0052   2\n",
       "2       D  Default series               3  #ffbe00   3\n",
       "3       C  Default series               4  #728f02   4\n",
       "4       B  Default series               5  #443988   5"
      ]
     },
     "execution_count": 21,
     "metadata": {},
     "output_type": "execute_result"
    }
   ],
   "source": [
    "geo_model.surfaces"
   ]
  },
  {
   "cell_type": "code",
   "execution_count": 22,
   "id": "formed-thought",
   "metadata": {
    "ExecuteTime": {
     "end_time": "2021-03-28T11:01:09.285434Z",
     "start_time": "2021-03-28T11:01:09.161380Z"
    }
   },
   "outputs": [
    {
     "data": {
      "text/html": [
       "<style  type=\"text/css\" >\n",
       "#T_d6d75_row0_col3{\n",
       "            background-color:  #015482;\n",
       "        }#T_d6d75_row1_col3{\n",
       "            background-color:  #9f0052;\n",
       "        }#T_d6d75_row2_col3{\n",
       "            background-color:  #ffbe00;\n",
       "        }#T_d6d75_row3_col3{\n",
       "            background-color:  #728f02;\n",
       "        }#T_d6d75_row4_col3{\n",
       "            background-color:  #443988;\n",
       "        }#T_d6d75_row5_col3{\n",
       "            background-color:  #ff3f20;\n",
       "        }</style><table id=\"T_d6d75_\" ><thead>    <tr>        <th class=\"blank level0\" ></th>        <th class=\"col_heading level0 col0\" >surface</th>        <th class=\"col_heading level0 col1\" >series</th>        <th class=\"col_heading level0 col2\" >order_surfaces</th>        <th class=\"col_heading level0 col3\" >color</th>        <th class=\"col_heading level0 col4\" >id</th>    </tr></thead><tbody>\n",
       "                <tr>\n",
       "                        <th id=\"T_d6d75_level0_row0\" class=\"row_heading level0 row0\" >0</th>\n",
       "                        <td id=\"T_d6d75_row0_col0\" class=\"data row0 col0\" >F</td>\n",
       "                        <td id=\"T_d6d75_row0_col1\" class=\"data row0 col1\" >Strata1</td>\n",
       "                        <td id=\"T_d6d75_row0_col2\" class=\"data row0 col2\" >1</td>\n",
       "                        <td id=\"T_d6d75_row0_col3\" class=\"data row0 col3\" >#015482</td>\n",
       "                        <td id=\"T_d6d75_row0_col4\" class=\"data row0 col4\" >1</td>\n",
       "            </tr>\n",
       "            <tr>\n",
       "                        <th id=\"T_d6d75_level0_row1\" class=\"row_heading level0 row1\" >1</th>\n",
       "                        <td id=\"T_d6d75_row1_col0\" class=\"data row1 col0\" >E</td>\n",
       "                        <td id=\"T_d6d75_row1_col1\" class=\"data row1 col1\" >Strata2</td>\n",
       "                        <td id=\"T_d6d75_row1_col2\" class=\"data row1 col2\" >1</td>\n",
       "                        <td id=\"T_d6d75_row1_col3\" class=\"data row1 col3\" >#9f0052</td>\n",
       "                        <td id=\"T_d6d75_row1_col4\" class=\"data row1 col4\" >2</td>\n",
       "            </tr>\n",
       "            <tr>\n",
       "                        <th id=\"T_d6d75_level0_row2\" class=\"row_heading level0 row2\" >2</th>\n",
       "                        <td id=\"T_d6d75_row2_col0\" class=\"data row2 col0\" >D</td>\n",
       "                        <td id=\"T_d6d75_row2_col1\" class=\"data row2 col1\" >Strata3</td>\n",
       "                        <td id=\"T_d6d75_row2_col2\" class=\"data row2 col2\" >1</td>\n",
       "                        <td id=\"T_d6d75_row2_col3\" class=\"data row2 col3\" >#ffbe00</td>\n",
       "                        <td id=\"T_d6d75_row2_col4\" class=\"data row2 col4\" >3</td>\n",
       "            </tr>\n",
       "            <tr>\n",
       "                        <th id=\"T_d6d75_level0_row3\" class=\"row_heading level0 row3\" >3</th>\n",
       "                        <td id=\"T_d6d75_row3_col0\" class=\"data row3 col0\" >C</td>\n",
       "                        <td id=\"T_d6d75_row3_col1\" class=\"data row3 col1\" >Strata4</td>\n",
       "                        <td id=\"T_d6d75_row3_col2\" class=\"data row3 col2\" >1</td>\n",
       "                        <td id=\"T_d6d75_row3_col3\" class=\"data row3 col3\" >#728f02</td>\n",
       "                        <td id=\"T_d6d75_row3_col4\" class=\"data row3 col4\" >4</td>\n",
       "            </tr>\n",
       "            <tr>\n",
       "                        <th id=\"T_d6d75_level0_row4\" class=\"row_heading level0 row4\" >4</th>\n",
       "                        <td id=\"T_d6d75_row4_col0\" class=\"data row4 col0\" >B</td>\n",
       "                        <td id=\"T_d6d75_row4_col1\" class=\"data row4 col1\" >Strata5</td>\n",
       "                        <td id=\"T_d6d75_row4_col2\" class=\"data row4 col2\" >1</td>\n",
       "                        <td id=\"T_d6d75_row4_col3\" class=\"data row4 col3\" >#443988</td>\n",
       "                        <td id=\"T_d6d75_row4_col4\" class=\"data row4 col4\" >5</td>\n",
       "            </tr>\n",
       "            <tr>\n",
       "                        <th id=\"T_d6d75_level0_row5\" class=\"row_heading level0 row5\" >5</th>\n",
       "                        <td id=\"T_d6d75_row5_col0\" class=\"data row5 col0\" >A</td>\n",
       "                        <td id=\"T_d6d75_row5_col1\" class=\"data row5 col1\" >Strata5</td>\n",
       "                        <td id=\"T_d6d75_row5_col2\" class=\"data row5 col2\" >2</td>\n",
       "                        <td id=\"T_d6d75_row5_col3\" class=\"data row5 col3\" >#ff3f20</td>\n",
       "                        <td id=\"T_d6d75_row5_col4\" class=\"data row5 col4\" >6</td>\n",
       "            </tr>\n",
       "    </tbody></table>"
      ],
      "text/plain": [
       "  surface   series  order_surfaces    color  id\n",
       "0       F  Strata1               1  #015482   1\n",
       "1       E  Strata2               1  #9f0052   2\n",
       "2       D  Strata3               1  #ffbe00   3\n",
       "3       C  Strata4               1  #728f02   4\n",
       "4       B  Strata5               1  #443988   5\n",
       "5       A  Strata5               2  #ff3f20   6"
      ]
     },
     "execution_count": 22,
     "metadata": {},
     "output_type": "execute_result"
    }
   ],
   "source": [
    "gp.map_stack_to_surfaces(geo_model,\n",
    "                         {                             \n",
    "                          'Strata1': ('F'),\n",
    "                          'Strata2': ('E'),\n",
    "                          'Strata3': ('D'),\n",
    "                          'Strata4': ('C'),\n",
    "                          'Strata5': ('B'),\n",
    "                         },\n",
    "                         remove_unused_series=True)\n",
    "geo_model.add_surfaces('A')"
   ]
  },
  {
   "cell_type": "code",
   "execution_count": 23,
   "id": "forty-treaty",
   "metadata": {
    "ExecuteTime": {
     "end_time": "2021-03-28T11:01:09.348442Z",
     "start_time": "2021-03-28T11:01:09.288437Z"
    }
   },
   "outputs": [
    {
     "data": {
      "text/html": [
       "<style  type=\"text/css\" >\n",
       "#T_6dbee_row0_col3{\n",
       "            background-color:  #015482;\n",
       "        }#T_6dbee_row1_col3{\n",
       "            background-color:  #9f0052;\n",
       "        }#T_6dbee_row2_col3{\n",
       "            background-color:  #ffbe00;\n",
       "        }#T_6dbee_row3_col3{\n",
       "            background-color:  #728f02;\n",
       "        }#T_6dbee_row4_col3{\n",
       "            background-color:  #443988;\n",
       "        }#T_6dbee_row5_col3{\n",
       "            background-color:  #ff3f20;\n",
       "        }</style><table id=\"T_6dbee_\" ><thead>    <tr>        <th class=\"blank level0\" ></th>        <th class=\"col_heading level0 col0\" >surface</th>        <th class=\"col_heading level0 col1\" >series</th>        <th class=\"col_heading level0 col2\" >order_surfaces</th>        <th class=\"col_heading level0 col3\" >color</th>        <th class=\"col_heading level0 col4\" >id</th>        <th class=\"col_heading level0 col5\" >No. of Interfaces</th>        <th class=\"col_heading level0 col6\" >No. of Orientations</th>    </tr></thead><tbody>\n",
       "                <tr>\n",
       "                        <th id=\"T_6dbee_level0_row0\" class=\"row_heading level0 row0\" >0</th>\n",
       "                        <td id=\"T_6dbee_row0_col0\" class=\"data row0 col0\" >F</td>\n",
       "                        <td id=\"T_6dbee_row0_col1\" class=\"data row0 col1\" >Strata1</td>\n",
       "                        <td id=\"T_6dbee_row0_col2\" class=\"data row0 col2\" >1</td>\n",
       "                        <td id=\"T_6dbee_row0_col3\" class=\"data row0 col3\" >#015482</td>\n",
       "                        <td id=\"T_6dbee_row0_col4\" class=\"data row0 col4\" >1</td>\n",
       "                        <td id=\"T_6dbee_row0_col5\" class=\"data row0 col5\" >45</td>\n",
       "                        <td id=\"T_6dbee_row0_col6\" class=\"data row0 col6\" >1</td>\n",
       "            </tr>\n",
       "            <tr>\n",
       "                        <th id=\"T_6dbee_level0_row1\" class=\"row_heading level0 row1\" >1</th>\n",
       "                        <td id=\"T_6dbee_row1_col0\" class=\"data row1 col0\" >E</td>\n",
       "                        <td id=\"T_6dbee_row1_col1\" class=\"data row1 col1\" >Strata2</td>\n",
       "                        <td id=\"T_6dbee_row1_col2\" class=\"data row1 col2\" >1</td>\n",
       "                        <td id=\"T_6dbee_row1_col3\" class=\"data row1 col3\" >#9f0052</td>\n",
       "                        <td id=\"T_6dbee_row1_col4\" class=\"data row1 col4\" >2</td>\n",
       "                        <td id=\"T_6dbee_row1_col5\" class=\"data row1 col5\" >68</td>\n",
       "                        <td id=\"T_6dbee_row1_col6\" class=\"data row1 col6\" >3</td>\n",
       "            </tr>\n",
       "            <tr>\n",
       "                        <th id=\"T_6dbee_level0_row2\" class=\"row_heading level0 row2\" >2</th>\n",
       "                        <td id=\"T_6dbee_row2_col0\" class=\"data row2 col0\" >D</td>\n",
       "                        <td id=\"T_6dbee_row2_col1\" class=\"data row2 col1\" >Strata3</td>\n",
       "                        <td id=\"T_6dbee_row2_col2\" class=\"data row2 col2\" >1</td>\n",
       "                        <td id=\"T_6dbee_row2_col3\" class=\"data row2 col3\" >#ffbe00</td>\n",
       "                        <td id=\"T_6dbee_row2_col4\" class=\"data row2 col4\" >3</td>\n",
       "                        <td id=\"T_6dbee_row2_col5\" class=\"data row2 col5\" >113</td>\n",
       "                        <td id=\"T_6dbee_row2_col6\" class=\"data row2 col6\" >3</td>\n",
       "            </tr>\n",
       "            <tr>\n",
       "                        <th id=\"T_6dbee_level0_row3\" class=\"row_heading level0 row3\" >3</th>\n",
       "                        <td id=\"T_6dbee_row3_col0\" class=\"data row3 col0\" >C</td>\n",
       "                        <td id=\"T_6dbee_row3_col1\" class=\"data row3 col1\" >Strata4</td>\n",
       "                        <td id=\"T_6dbee_row3_col2\" class=\"data row3 col2\" >1</td>\n",
       "                        <td id=\"T_6dbee_row3_col3\" class=\"data row3 col3\" >#728f02</td>\n",
       "                        <td id=\"T_6dbee_row3_col4\" class=\"data row3 col4\" >4</td>\n",
       "                        <td id=\"T_6dbee_row3_col5\" class=\"data row3 col5\" >77</td>\n",
       "                        <td id=\"T_6dbee_row3_col6\" class=\"data row3 col6\" >4</td>\n",
       "            </tr>\n",
       "            <tr>\n",
       "                        <th id=\"T_6dbee_level0_row4\" class=\"row_heading level0 row4\" >4</th>\n",
       "                        <td id=\"T_6dbee_row4_col0\" class=\"data row4 col0\" >B</td>\n",
       "                        <td id=\"T_6dbee_row4_col1\" class=\"data row4 col1\" >Strata5</td>\n",
       "                        <td id=\"T_6dbee_row4_col2\" class=\"data row4 col2\" >1</td>\n",
       "                        <td id=\"T_6dbee_row4_col3\" class=\"data row4 col3\" >#443988</td>\n",
       "                        <td id=\"T_6dbee_row4_col4\" class=\"data row4 col4\" >5</td>\n",
       "                        <td id=\"T_6dbee_row4_col5\" class=\"data row4 col5\" >21</td>\n",
       "                        <td id=\"T_6dbee_row4_col6\" class=\"data row4 col6\" >1</td>\n",
       "            </tr>\n",
       "            <tr>\n",
       "                        <th id=\"T_6dbee_level0_row5\" class=\"row_heading level0 row5\" >5</th>\n",
       "                        <td id=\"T_6dbee_row5_col0\" class=\"data row5 col0\" >A</td>\n",
       "                        <td id=\"T_6dbee_row5_col1\" class=\"data row5 col1\" >Strata5</td>\n",
       "                        <td id=\"T_6dbee_row5_col2\" class=\"data row5 col2\" >2</td>\n",
       "                        <td id=\"T_6dbee_row5_col3\" class=\"data row5 col3\" >#ff3f20</td>\n",
       "                        <td id=\"T_6dbee_row5_col4\" class=\"data row5 col4\" >6</td>\n",
       "                        <td id=\"T_6dbee_row5_col5\" class=\"data row5 col5\" >0</td>\n",
       "                        <td id=\"T_6dbee_row5_col6\" class=\"data row5 col6\" >0</td>\n",
       "            </tr>\n",
       "    </tbody></table>"
      ],
      "text/plain": [
       "  surface   series  order_surfaces    color  id  No. of Interfaces  No. of Orientations\n",
       "0       F  Strata1               1  #015482   1                 45                    1\n",
       "1       E  Strata2               1  #9f0052   2                 68                    3\n",
       "2       D  Strata3               1  #ffbe00   3                113                    3\n",
       "3       C  Strata4               1  #728f02   4                 77                    4\n",
       "4       B  Strata5               1  #443988   5                 21                    1\n",
       "5       A  Strata5               2  #ff3f20   6                  0                    0"
      ]
     },
     "execution_count": 23,
     "metadata": {},
     "output_type": "execute_result"
    }
   ],
   "source": [
    "gg.utils.show_number_of_data_points(geo_model=geo_model)"
   ]
  },
  {
   "cell_type": "code",
   "execution_count": 24,
   "id": "bigger-consciousness",
   "metadata": {
    "ExecuteTime": {
     "end_time": "2021-03-28T11:01:09.523490Z",
     "start_time": "2021-03-28T11:01:09.350442Z"
    }
   },
   "outputs": [
    {
     "name": "stdout",
     "output_type": "stream",
     "text": [
      "Active grids: ['regular' 'sections']\n"
     ]
    },
    {
     "data": {
      "text/html": [
       "<table border=\"1\" class=\"dataframe\">\n",
       "  <thead>\n",
       "    <tr style=\"text-align: right;\">\n",
       "      <th></th>\n",
       "      <th>start</th>\n",
       "      <th>stop</th>\n",
       "      <th>resolution</th>\n",
       "      <th>dist</th>\n",
       "    </tr>\n",
       "  </thead>\n",
       "  <tbody>\n",
       "    <tr>\n",
       "      <th>Section1</th>\n",
       "      <td>[15.217892876134727, 1063.5514258527073]</td>\n",
       "      <td>[2991.4655480049296, 1046.4043200206897]</td>\n",
       "      <td>[100, 80]</td>\n",
       "      <td>2976.30</td>\n",
       "    </tr>\n",
       "  </tbody>\n",
       "</table>"
      ],
      "text/plain": [
       "                                             start                                      stop resolution    dist\n",
       "Section1  [15.217892876134727, 1063.5514258527073]  [2991.4655480049296, 1046.4043200206897]  [100, 80] 2976.30"
      ]
     },
     "execution_count": 24,
     "metadata": {},
     "output_type": "execute_result"
    }
   ],
   "source": [
    "custom_section = gpd.read_file('customsection3.shp')\n",
    "custom_section_dict = gg.utils.to_section_dict(custom_section, section_column='name')\n",
    "geo_model.set_section_grid(custom_section_dict)"
   ]
  },
  {
   "cell_type": "code",
   "execution_count": 25,
   "id": "subsequent-technique",
   "metadata": {
    "ExecuteTime": {
     "end_time": "2021-03-28T11:01:09.727547Z",
     "start_time": "2021-03-28T11:01:09.525491Z"
    }
   },
   "outputs": [
    {
     "name": "stdout",
     "output_type": "stream",
     "text": [
      "Cropped raster to geo_model.grid.extent.\n",
      "depending on the size of the raster, this can take a while...\n",
      "storing converted file...\n",
      "Active grids: ['regular' 'topography' 'sections']\n"
     ]
    },
    {
     "data": {
      "text/plain": [
       "Grid Object. Values: \n",
       "array([[  20.        ,   24.93333333,  206.66666667],\n",
       "       [  20.        ,   24.93333333,  220.        ],\n",
       "       [  20.        ,   24.93333333,  233.33333333],\n",
       "       ...,\n",
       "       [2991.465548  , 1046.40432002, 1174.6835443 ],\n",
       "       [2991.465548  , 1046.40432002, 1187.34177215],\n",
       "       [2991.465548  , 1046.40432002, 1200.        ]])"
      ]
     },
     "execution_count": 25,
     "metadata": {},
     "output_type": "execute_result"
    }
   ],
   "source": [
    "geo_model.set_topography(\n",
    "    source='gdal', filepath='raster3.tif')"
   ]
  },
  {
   "cell_type": "code",
   "execution_count": 26,
   "id": "external-clerk",
   "metadata": {
    "ExecuteTime": {
     "end_time": "2021-03-28T11:01:12.254064Z",
     "start_time": "2021-03-28T11:01:09.729541Z"
    }
   },
   "outputs": [
    {
     "name": "stdout",
     "output_type": "stream",
     "text": [
      "Compiling theano function...\n",
      "Level of Optimization:  fast_compile\n",
      "Device:  cpu\n",
      "Precision:  float64\n",
      "Number of faults:  0\n",
      "Compilation Done!\n",
      "Kriging values: \n",
      "                           values\n",
      "range                    4897.71\n",
      "$C_o$                  571133.33\n",
      "drift equations  [3, 3, 3, 3, 3]\n"
     ]
    },
    {
     "data": {
      "text/plain": [
       "<gempy.core.interpolator.InterpolatorModel at 0x2159657bdf0>"
      ]
     },
     "execution_count": 26,
     "metadata": {},
     "output_type": "execute_result"
    }
   ],
   "source": [
    "gp.set_interpolator(geo_model,\n",
    "                    compile_theano=True,\n",
    "                    theano_optimizer='fast_compile',\n",
    "                    verbose=[],\n",
    "                    update_kriging = False\n",
    "                    )"
   ]
  },
  {
   "cell_type": "code",
   "execution_count": 27,
   "id": "impressed-adams",
   "metadata": {
    "ExecuteTime": {
     "end_time": "2021-03-28T11:02:12.823345Z",
     "start_time": "2021-03-28T11:01:12.256063Z"
    }
   },
   "outputs": [
    {
     "name": "stderr",
     "output_type": "stream",
     "text": [
      "C:\\Users\\ale93371\\Anaconda3\\envs\\test_gempy\\lib\\site-packages\\gempy\\core\\solution.py:128: VisibleDeprecationWarning: Creating an ndarray from ragged nested sequences (which is a list-or-tuple of lists-or-tuples-or ndarrays with different lengths or shapes) is deprecated. If you meant to do this, you must specify 'dtype=object' when creating the ndarray\n",
      "  self.geological_map = np.array([values[0][:, l0: l1], values[4][:, l0: l1].astype(float)])\n",
      "C:\\Users\\ale93371\\Anaconda3\\envs\\test_gempy\\lib\\site-packages\\gempy\\core\\solution.py:132: VisibleDeprecationWarning: Creating an ndarray from ragged nested sequences (which is a list-or-tuple of lists-or-tuples-or ndarrays with different lengths or shapes) is deprecated. If you meant to do this, you must specify 'dtype=object' when creating the ndarray\n",
      "  self.sections = np.array([values[0][:, l0: l1], values[4][:, l0: l1].astype(float)])\n"
     ]
    }
   ],
   "source": [
    "sol = gp.compute_model(geo_model, compute_mesh=True)"
   ]
  },
  {
   "cell_type": "code",
   "execution_count": 28,
   "id": "intensive-portal",
   "metadata": {
    "ExecuteTime": {
     "end_time": "2021-03-28T11:02:13.173081Z",
     "start_time": "2021-03-28T11:02:12.825344Z"
    }
   },
   "outputs": [
    {
     "name": "stderr",
     "output_type": "stream",
     "text": [
      "C:\\Users\\ale93371\\Anaconda3\\envs\\test_gempy\\lib\\site-packages\\gempy\\plot\\plot_api.py:261: UserWarning: Matplotlib is currently using module://ipykernel.pylab.backend_inline, which is a non-GUI backend, so cannot show the figure.\n",
      "  p.fig.show()\n"
     ]
    },
    {
     "data": {
      "text/plain": [
       "<gempy.plot.visualization_2d.Plot2D at 0x215981067c0>"
      ]
     },
     "execution_count": 28,
     "metadata": {},
     "output_type": "execute_result"
    },
    {
     "data": {
      "image/png": "[encoded data removed]",
      "text/plain": [
       "<Figure size 748.8x514.8 with 1 Axes>"
      ]
     },
     "metadata": {},
     "output_type": "display_data"
    }
   ],
   "source": [
    "gp.plot_2d(geo_model, section_names=['Section1'], show_topography=True)"
   ]
  },
  {
   "cell_type": "code",
   "execution_count": null,
   "id": "developing-comparison",
   "metadata": {
    "ExecuteTime": {
     "start_time": "2021-03-28T11:01:04.777Z"
    }
   },
   "outputs": [],
   "source": [
    "gpv = gp.plot_3d(geo_model, image=False, show_topography=True,\n",
    "                 plotter_type='basic', notebook=False, show_lith=True)"
   ]
  },
  {
   "cell_type": "code",
   "execution_count": null,
   "id": "republican-plate",
   "metadata": {},
   "outputs": [],
   "source": []
  }
 ],
 "metadata": {
  "hide_input": false,
  "kernelspec": {
   "display_name": "Python 3",
   "language": "python",
   "name": "python3"
  },
  "language_info": {
   "codemirror_mode": {
    "name": "ipython",
    "version": 3
   },
   "file_extension": ".py",
   "mimetype": "text/x-python",
   "name": "python",
   "nbconvert_exporter": "python",
   "pygments_lexer": "ipython3",
   "version": "3.8.5"
  },
  "varInspector": {
   "cols": {
    "lenName": 16,
    "lenType": 16,
    "lenVar": 40
   },
   "kernels_config": {
    "python": {
     "delete_cmd_postfix": "",
     "delete_cmd_prefix": "del ",
     "library": "var_list.py",
     "varRefreshCmd": "print(var_dic_list())"
    },
    "r": {
     "delete_cmd_postfix": ") ",
     "delete_cmd_prefix": "rm(",
     "library": "var_list.r",
     "varRefreshCmd": "cat(var_dic_list()) "
    }
   },
   "types_to_exclude": [
    "module",
    "function",
    "builtin_function_or_method",
    "instance",
    "_Feature"
   ],
   "window_display": false
  }
 },
 "nbformat": 4,
 "nbformat_minor": 5
}
